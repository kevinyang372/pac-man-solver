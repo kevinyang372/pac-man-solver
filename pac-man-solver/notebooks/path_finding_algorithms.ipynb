{
 "cells": [
  {
   "cell_type": "markdown",
   "metadata": {},
   "source": [
    "# All Path Finding Algorithms\n",
    "\n",
    "## Ideas from\n",
    "1. [Variants of A*](http://theory.stanford.edu/~amitp/GameProgramming/Variations.html)\n",
    "2. [Robot Motion Planning](http://ais.informatik.uni-freiburg.de/teaching/ss11/robotics/slides/18-robot-motion-planning.pdf)\n",
    "3. [The State of the Art Pathfinding Algorithms](https://cstheory.stackexchange.com/questions/11855/how-do-the-state-of-the-art-pathfinding-algorithms-for-changing-graphs-d-d-l)"
   ]
  },
  {
   "cell_type": "markdown",
   "metadata": {},
   "source": [
    "## Dependencies"
   ]
  },
  {
   "cell_type": "code",
   "execution_count": 21,
   "metadata": {},
   "outputs": [],
   "source": [
    "import matplotlib.pyplot as plt\n",
    "from matplotlib import animation, rc\n",
    "import collections\n",
    "import heapq\n",
    "import copy\n",
    "import numpy as np\n",
    "import random"
   ]
  },
  {
   "cell_type": "markdown",
   "metadata": {},
   "source": [
    "## Sample Problem"
   ]
  },
  {
   "cell_type": "code",
   "execution_count": 2,
   "metadata": {},
   "outputs": [],
   "source": [
    "maps = [\n",
    "    [0,0,0,0,0,0,0,0,1,0,1,0,0,0,0,0,0,0,0,1,0,0,0,0,0,1,0,0,0,0,0,0,0],\n",
    "    [0,0,0,0,0,0,0,0,0,0,0,0,1,0,0,0,0,1,0,0,0,0,0,0,0,0,0,0,0,0,0,0,1],\n",
    "    [0,0,0,0,0,1,0,1,0,0,0,0,0,0,0,0,0,0,0,0,0,1,0,0,0,0,1,0,0,0,0,0,0],\n",
    "    [1,1,1,0,0,0,0,1,0,0,0,0,0,0,0,0,1,0,0,1,1,0,0,0,0,0,0,0,0,1,0,0,1],\n",
    "    [0,0,1,0,0,1,0,0,0,0,0,0,0,0,0,0,0,0,0,0,0,0,0,1,0,0,0,1,0,0,0,0,0],\n",
    "    [0,0,0,1,0,1,0,0,0,0,1,1,0,0,0,0,0,0,0,0,1,0,0,0,0,0,0,0,0,0,1,1,0],\n",
    "    [1,0,1,1,1,0,0,0,0,1,0,0,0,0,0,0,0,0,1,0,0,0,0,0,1,0,0,0,0,0,0,0,0],\n",
    "    [0,0,1,0,0,0,0,0,0,0,0,0,0,0,0,1,0,0,1,0,1,0,0,0,1,0,1,0,0,0,0,0,0],\n",
    "    [0,0,0,0,0,0,0,0,0,0,1,0,0,0,0,0,0,0,0,0,0,0,0,0,0,0,0,1,1,0,0,1,0],\n",
    "    [0,0,0,0,0,0,0,0,0,1,1,0,0,0,0,0,0,0,0,0,0,0,1,1,0,0,0,1,0,0,0,0,0],\n",
    "    [0,1,1,0,0,0,0,0,0,0,0,0,0,0,0,0,1,0,0,0,1,0,0,0,0,0,0,0,0,0,0,0,0],\n",
    "    [1,0,1,0,0,0,0,0,0,0,0,1,0,0,1,0,0,0,0,1,0,1,0,0,0,1,0,1,0,0,0,0,1],\n",
    "    [0,0,0,0,0,0,0,0,0,0,0,1,0,0,0,0,0,1,0,1,0,0,0,0,0,0,1,1,0,0,0,0,0],\n",
    "    [0,1,0,1,0,0,0,0,1,0,0,1,0,0,0,0,0,0,0,1,1,0,0,0,0,0,0,1,0,0,0,0,0],\n",
    "    [0,1,0,0,0,0,0,0,1,0,0,1,1,0,0,0,0,0,0,0,0,0,0,0,0,0,1,0,0,1,1,0,1],\n",
    "    [1,0,0,0,0,1,0,0,1,0,0,0,0,0,0,0,1,0,0,0,0,0,0,0,0,0,0,0,0,0,0,0,0],\n",
    "    [0,0,0,0,0,0,0,0,0,0,0,0,0,0,1,0,0,1,0,0,0,0,1,1,0,0,1,0,0,0,0,0,0],\n",
    "    [0,0,1,0,0,0,0,0,0,0,1,0,0,1,0,0,1,0,0,0,0,0,0,1,1,0,1,0,0,0,0,1,1],\n",
    "    [0,1,0,0,1,0,0,0,0,0,0,0,0,1,0,0,0,0,0,0,0,0,0,0,0,1,0,1,1,0,1,0,1],\n",
    "    [1,1,1,0,1,0,0,0,0,1,0,0,0,0,0,0,1,0,1,0,1,1,0,0,0,0,0,0,0,0,0,0,0],\n",
    "    [0,0,0,0,1,1,0,0,0,0,0,0,0,0,0,0,0,1,0,0,0,1,0,0,0,0,0,0,0,0,0,1,1],\n",
    "    [0,0,0,1,0,0,0,0,0,0,0,0,0,0,0,0,0,1,0,0,0,0,0,1,0,1,0,0,0,1,0,0,0]]"
   ]
  },
  {
   "cell_type": "code",
   "execution_count": 3,
   "metadata": {},
   "outputs": [
    {
     "data": {
      "image/png": "[encoded data removed]",
      "text/plain": [
       "<Figure size 432x288 with 1 Axes>"
      ]
     },
     "metadata": {
      "needs_background": "light"
     },
     "output_type": "display_data"
    }
   ],
   "source": [
    "plt.imshow(maps)\n",
    "plt.show()"
   ]
  },
  {
   "cell_type": "markdown",
   "metadata": {},
   "source": [
    "## A* algorithm"
   ]
  },
  {
   "cell_type": "code",
   "execution_count": 4,
   "metadata": {},
   "outputs": [],
   "source": [
    "def astar(maps, start, end):\n",
    "    \n",
    "    cost = {}\n",
    "    cost[start[0], start[1]] = 0\n",
    "    \n",
    "    def manhattan(x, y):\n",
    "        return abs(x[0] - y[0]) + abs(x[1] - y[1])\n",
    "    \n",
    "    d = [(manhattan(start, end), 0, start[0], start[1], [])]\n",
    "    while d:\n",
    "        fx, cx, x, y, past = heapq.heappop(d)\n",
    "        \n",
    "        if [x, y] == end: return past + [(x, y)]\n",
    "        \n",
    "        for dx, dy in [[0, 1], [1, 0], [0, -1], [-1, 0]]:\n",
    "            if 0 <= x + dx < len(maps) and 0 <= y + dy < len(maps[0]) and maps[x + dx][y + dy] != 1 and cx + 1 < cost.get((x + dx, y + dy), float('inf')):\n",
    "                new = manhattan([x + dx, y + dy], end) + cx + 1\n",
    "                cost[x + dx, y + dy] = cx + 1\n",
    "                heapq.heappush(d, (new, cx + 1, x + dx, y + dy, past + [(x, y)]))\n",
    "    \n",
    "    return None"
   ]
  },
  {
   "cell_type": "code",
   "execution_count": 5,
   "metadata": {},
   "outputs": [],
   "source": [
    "path = astar(maps, [0, 0], [len(maps) - 1, len(maps[0]) - 1])"
   ]
  },
  {
   "cell_type": "code",
   "execution_count": 6,
   "metadata": {},
   "outputs": [
    {
     "name": "stdout",
     "output_type": "stream",
     "text": [
      "Total length: 54\n"
     ]
    },
    {
     "data": {
      "image/png": "[encoded data removed]",
      "text/plain": [
       "<Figure size 432x288 with 1 Axes>"
      ]
     },
     "metadata": {
      "needs_background": "light"
     },
     "output_type": "display_data"
    }
   ],
   "source": [
    "pmap = copy.deepcopy(maps)\n",
    "for x, y in path:\n",
    "    pmap[x][y] = 2\n",
    "\n",
    "print('Total length: %s' % len(path))\n",
    "plt.imshow(pmap)\n",
    "plt.show()"
   ]
  },
  {
   "cell_type": "markdown",
   "metadata": {},
   "source": [
    "# Greedy Best-First Search"
   ]
  },
  {
   "cell_type": "code",
   "execution_count": 7,
   "metadata": {},
   "outputs": [],
   "source": [
    "def greedy(maps, start, end, prev = []):\n",
    "    \n",
    "    if start == end: return prev + [(start[0], start[1])]\n",
    "    \n",
    "    def manhattan(x, y):\n",
    "        return abs(x[0] - y[0]) + abs(x[1] - y[1])\n",
    "    \n",
    "    x, y = start\n",
    "    neighbors = sorted([(manhattan([x + dx, y + dy], end), x + dx, y + dy) for dx, dy in [[0, 1], [1, 0], [-1, 0], [0, -1]] if 0 <= x + dx < len(maps) and 0 <= y + dy < len(maps[0]) and maps[x + dx][y + dy] != 1 and (x + dx, y + dy) not in prev])\n",
    "    \n",
    "    for _, tx, ty in neighbors:\n",
    "        res = greedy(maps, [tx, ty], end, prev + [(x, y)])\n",
    "        if res: return res\n",
    "    \n",
    "    return None"
   ]
  },
  {
   "cell_type": "code",
   "execution_count": 8,
   "metadata": {},
   "outputs": [],
   "source": [
    "path = greedy(maps, [0, 0], [len(maps) - 1, len(maps[0]) - 1])"
   ]
  },
  {
   "cell_type": "code",
   "execution_count": 9,
   "metadata": {},
   "outputs": [
    {
     "name": "stdout",
     "output_type": "stream",
     "text": [
      "Total length: 66\n"
     ]
    },
    {
     "data": {
      "image/png": "[encoded data removed]",
      "text/plain": [
       "<Figure size 432x288 with 1 Axes>"
      ]
     },
     "metadata": {
      "needs_background": "light"
     },
     "output_type": "display_data"
    }
   ],
   "source": [
    "pmap = copy.deepcopy(maps)\n",
    "for x, y in path:\n",
    "    pmap[x][y] = 2\n",
    "\n",
    "print('Total length: %s' % len(path))\n",
    "plt.imshow(pmap)\n",
    "plt.show()"
   ]
  },
  {
   "cell_type": "markdown",
   "metadata": {},
   "source": [
    "## A* with Map Smoothing"
   ]
  },
  {
   "cell_type": "code",
   "execution_count": 10,
   "metadata": {},
   "outputs": [],
   "source": [
    "def smoothing(maps):\n",
    "    \n",
    "    new = [[0] * len(maps[0]) for _ in range(len(maps))]\n",
    "    for i in range(len(maps)):\n",
    "        for j in range(len(maps[0])):\n",
    "            neighbors = [maps[i][j]]\n",
    "            for di, dj in [[0, 1], [1, 0], [0, -1], [-1, 0]]:\n",
    "                if 0 <= i + di < len(maps) and 0 <= j + dj < len(maps[0]):\n",
    "                    neighbors.append(maps[i + di][j + dj])\n",
    "            new[i][j] = np.mean(neighbors)\n",
    "    return new"
   ]
  },
  {
   "cell_type": "code",
   "execution_count": 11,
   "metadata": {},
   "outputs": [],
   "source": [
    "curr = maps\n",
    "for _ in range(2):\n",
    "    curr = smoothing(curr)"
   ]
  },
  {
   "cell_type": "code",
   "execution_count": 12,
   "metadata": {},
   "outputs": [
    {
     "data": {
      "image/png": "[encoded data removed]",
      "text/plain": [
       "<Figure size 432x288 with 1 Axes>"
      ]
     },
     "metadata": {
      "needs_background": "light"
     },
     "output_type": "display_data"
    }
   ],
   "source": [
    "plt.imshow(curr)\n",
    "plt.show()"
   ]
  },
  {
   "cell_type": "code",
   "execution_count": 13,
   "metadata": {},
   "outputs": [],
   "source": [
    "def astar_smooth(maps, smoothed, start, end):\n",
    "    \n",
    "    cost = {}\n",
    "    cost[start[0], start[1]] = 0\n",
    "    \n",
    "    def manhattan(x, y):\n",
    "        return abs(x[0] - y[0]) + abs(x[1] - y[1])\n",
    "    \n",
    "    d = [(manhattan(start, end), 0, start[0], start[1], [])]\n",
    "    while d:\n",
    "        fx, cx, x, y, past = heapq.heappop(d)\n",
    "        \n",
    "        if [x, y] == end: return past + [(x, y)]\n",
    "        \n",
    "        for dx, dy in [[0, 1], [1, 0], [0, -1], [-1, 0]]:\n",
    "            if 0 <= x + dx < len(maps) and 0 <= y + dy < len(maps[0]) and maps[x + dx][y + dy] != 1 and cx + 1 < cost.get((x + dx, y + dy), float('inf')):\n",
    "                temp = (cx + 1) * smoothed[x + dx][y + dy]\n",
    "                new = manhattan([x + dx, y + dy], end) + temp\n",
    "                cost[x + dx, y + dy] = temp\n",
    "                heapq.heappush(d, (new, cx + 1, x + dx, y + dy, past + [(x, y)]))\n",
    "    \n",
    "    return None "
   ]
  },
  {
   "cell_type": "code",
   "execution_count": 14,
   "metadata": {},
   "outputs": [],
   "source": [
    "path = astar_smooth(maps, curr, [0, 0], [len(maps) - 1, len(maps[0]) - 1])"
   ]
  },
  {
   "cell_type": "code",
   "execution_count": 15,
   "metadata": {},
   "outputs": [
    {
     "name": "stdout",
     "output_type": "stream",
     "text": [
      "Total length: 56\n"
     ]
    },
    {
     "data": {
      "image/png": "[encoded data removed]",
      "text/plain": [
       "<Figure size 432x288 with 1 Axes>"
      ]
     },
     "metadata": {
      "needs_background": "light"
     },
     "output_type": "display_data"
    }
   ],
   "source": [
    "pmap = copy.deepcopy(maps)\n",
    "for x, y in path:\n",
    "    pmap[x][y] = 2\n",
    "\n",
    "print('Total length: %s' % len(path))\n",
    "plt.imshow(pmap)\n",
    "plt.show()"
   ]
  },
  {
   "cell_type": "markdown",
   "metadata": {},
   "source": [
    "## Bidirectional A*"
   ]
  },
  {
   "cell_type": "code",
   "execution_count": 16,
   "metadata": {},
   "outputs": [],
   "source": [
    "def bidirectional_retargeting(maps, step_size, s, e):\n",
    "    \n",
    "    def astar(maps, start, end, step_size):\n",
    "    \n",
    "        cost = {}\n",
    "        cost[start[0], start[1]] = 0\n",
    "\n",
    "        def manhattan(x, y):\n",
    "            return abs(x[0] - y[0]) + abs(x[1] - y[1])\n",
    "\n",
    "        d = [(manhattan(start, end), 0, start[0], start[1], [])]\n",
    "        i = 0\n",
    "        while d and i < step_size:\n",
    "            fx, cx, x, y, past = heapq.heappop(d)\n",
    "\n",
    "            if (x, y) == end: return (x, y), past + [(x, y)]\n",
    "\n",
    "            for dx, dy in [[0, 1], [1, 0], [0, -1], [-1, 0]]:\n",
    "                if 0 <= x + dx < len(maps) and 0 <= y + dy < len(maps[0]) and maps[x + dx][y + dy] != 1 and cx + 1 < cost.get((x + dx, y + dy), float('inf')):\n",
    "                    new = manhattan([x + dx, y + dy], end) + cx + 1\n",
    "                    cost[x + dx, y + dy] = cx + 1\n",
    "                    heapq.heappush(d, (new, cx + 1, x + dx, y + dy, past + [(x, y)]))\n",
    "            i += 1\n",
    "\n",
    "        _, _, x, y, past = heapq.heappop(d)\n",
    "        return (x, y), past\n",
    "    \n",
    "    hist1, hist2 = [], []\n",
    "    turn = True\n",
    "    while s != e:\n",
    "        node, past = astar(maps, s, e, step_size)\n",
    "        \n",
    "        if turn:\n",
    "            e, s = node, e\n",
    "            hist1 += past\n",
    "            turn = not turn\n",
    "        else:\n",
    "            s, e = e, node\n",
    "            hist2 += past\n",
    "            turn = not turn\n",
    "    \n",
    "    return hist1, hist2[::-1]"
   ]
  },
  {
   "cell_type": "code",
   "execution_count": 17,
   "metadata": {},
   "outputs": [],
   "source": [
    "path1, path2 = bidirectional_retargeting(maps, 100, [0, 0], [len(maps) - 1, len(maps[0]) - 1])"
   ]
  },
  {
   "cell_type": "code",
   "execution_count": 18,
   "metadata": {},
   "outputs": [
    {
     "name": "stdout",
     "output_type": "stream",
     "text": [
      "Total length: 58\n"
     ]
    },
    {
     "data": {
      "image/png": "[encoded data removed]",
      "text/plain": [
       "<Figure size 432x288 with 1 Axes>"
      ]
     },
     "metadata": {
      "needs_background": "light"
     },
     "output_type": "display_data"
    }
   ],
   "source": [
    "pmap = copy.deepcopy(maps)\n",
    "for x, y in path1:\n",
    "    pmap[x][y] = 2\n",
    "    \n",
    "for x, y in path2:\n",
    "    pmap[x][y] = 2.5\n",
    "\n",
    "print('Total length: %s' % (len(path1) + len(path2)))\n",
    "plt.imshow(pmap)\n",
    "plt.show()"
   ]
  }
 ],
 "metadata": {
  "kernelspec": {
   "display_name": "Python 3",
   "language": "python",
   "name": "python3"
  },
  "language_info": {
   "codemirror_mode": {
    "name": "ipython",
    "version": 3
   },
   "file_extension": ".py",
   "mimetype": "text/x-python",
   "name": "python",
   "nbconvert_exporter": "python",
   "pygments_lexer": "ipython3",
   "version": "3.7.0"
  }
 },
 "nbformat": 4,
 "nbformat_minor": 2
}
